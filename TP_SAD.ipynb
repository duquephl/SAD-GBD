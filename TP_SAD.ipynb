{
 "cells": [
  {
   "cell_type": "code",
   "execution_count": 1,
   "metadata": {},
   "outputs": [],
   "source": [
    "import pandas as pd\n",
    "import matplotlib.pyplot as plt\n",
    "import py7zr\n",
    "import numpy as np\n",
    "import seaborn as sns"
   ]
  },
  {
   "cell_type": "code",
   "execution_count": 2,
   "metadata": {},
   "outputs": [],
   "source": [
    "#competênciamov;região;uf;município;seção;subclasse;saldomovimentação;cbo2002ocupação;categoria;graudeinstrução;idade;horascontratuais;raçacor;sexo;tipoempregador;tipoestabelecimento;tipomovimentação;tipodedeficiência;indtrabintermitente;indtrabparcial;salário;tamestabjan;indicadoraprendiz;origemdainformação;competênciadec;indicadordeforadoprazo;unidadesaláriocódigo;valorsaláriofixo\n",
    "ListaDeColunasDoNovoCAGED = ['competênciamov', 'uf', 'município', 'saldomovimentação', 'cbo2002ocupação', 'graudeinstrução', 'idade', 'horascontratuais', 'raçacor', 'sexo', 'tipoempregador', 'tipomovimentação', 'tipodedeficiência', 'indtrabintermitente', 'salário', 'valorsaláriofixo']\n",
    "#Admitidos/Desligados;Competência Declarada;Município;Ano Declarado;CBO 2002 Ocupação;CNAE 1.0 Classe;CNAE 2.0 Classe;CNAE 2.0 Subclas;Faixa Empr Início Jan;Grau Instrução;Qtd Hora Contrat;IBGE Subsetor;Idade;Ind Aprendiz;Ind Portador Defic;Raça Cor;Salário Mensal;Saldo Mov;Sexo;Tempo Emprego;Tipo Estab;Tipo Defic;Tipo Mov Desagregado;UF;Bairros SP;Bairros Fortaleza;Bairros RJ;Distritos SP;Regiões Adm DF;Mesorregião;Microrregião;Região Adm RJ;Região Adm SP;Região Corede;Região Corede 04;Região Gov SP;Região Senac PR;Região Senai PR;Região Senai SP;Sub-Região Senai PR;Ind Trab Parcial;Ind Trab Intermitente\n",
    "ListaDeColunasDoAntigoCAGED = ['Competência Declarada', 'UF', 'Município', 'Saldo Mov', 'CBO 2002 Ocupação', 'Grau Instrução', 'Idade', 'Qtd Hora Contrat', 'Raça Cor', 'Sexo', 'Tipo Estab', 'Tipo Mov Desagregado', 'Tipo Defic', 'Ind Trab Intermitente', 'Salário Mensal']\n"
   ]
  },
  {
   "cell_type": "code",
   "execution_count": 3,
   "metadata": {},
   "outputs": [
    {
     "name": "stdout",
     "output_type": "stream",
     "text": [
      "Path do arquivo zip: ./ANTIGO CAGED/2018/CAGEDEST_012018.7z\n",
      "Path do arquivo txt: ./ANTIGO CAGED/2018/CAGEDEST_012018.txt\n"
     ]
    },
    {
     "name": "stderr",
     "output_type": "stream",
     "text": [
      "C:\\Users\\pedro\\AppData\\Local\\Temp\\ipykernel_10428\\2287045555.py:21: DtypeWarning: Columns (32,33,34,35,36,37,38,39) have mixed types. Specify dtype option on import or set low_memory=False.\n",
      "  df_prov = pd.read_csv(Path, delimiter= \";\", encoding='latin-1')\n"
     ]
    },
    {
     "name": "stdout",
     "output_type": "stream",
     "text": [
      "Path do arquivo zip: ./ANTIGO CAGED/2018/CAGEDEST_022018.7z\n",
      "Path do arquivo txt: ./ANTIGO CAGED/2018/CAGEDEST_022018.txt\n"
     ]
    },
    {
     "name": "stderr",
     "output_type": "stream",
     "text": [
      "C:\\Users\\pedro\\AppData\\Local\\Temp\\ipykernel_10428\\2287045555.py:21: DtypeWarning: Columns (32,33,34,35,36,37,38,39) have mixed types. Specify dtype option on import or set low_memory=False.\n",
      "  df_prov = pd.read_csv(Path, delimiter= \";\", encoding='latin-1')\n"
     ]
    },
    {
     "name": "stdout",
     "output_type": "stream",
     "text": [
      "Path do arquivo zip: ./ANTIGO CAGED/2018/CAGEDEST_032018.7z\n"
     ]
    }
   ],
   "source": [
    "ano = 2018\n",
    "mes= 1\n",
    "Path = None\n",
    "df = None\n",
    "while(ano<=2023):\n",
    "    if ano < 2020:\n",
    "        while(mes<13):\n",
    "            if(mes<10):\n",
    "                Path = (f'./ANTIGO CAGED/{ano}/CAGEDEST_0{mes}{ano}.7z')\n",
    "            else:\n",
    "                Path = (f'./ANTIGO CAGED/{ano}/CAGEDEST_{mes}{ano}.7z')\n",
    "            print(f'Path do arquivo zip: {Path}')\n",
    "            try:\n",
    "                with py7zr.SevenZipFile(Path, mode='r') as z:\n",
    "                    if (mes<10):\n",
    "                        z.extractall(path=f'./ANTIGO CAGED/{ano}')\n",
    "                    else:\n",
    "                        z.extractall(path=f'./ANTIGO CAGED/{ano}')\n",
    "                Path = Path.replace(\".7z\", \".txt\")\n",
    "                print(f'Path do arquivo txt: {Path}')\n",
    "                df_prov = pd.read_csv(Path, delimiter= \";\", encoding='latin-1')\n",
    "                if(df is None):\n",
    "                    df = df_prov\n",
    "                else:\n",
    "                    df = pd.concat([df, df_prov])\n",
    "                if(mes==12):\n",
    "                    df = df[ListaDeColunasDoAntigoCAGED]\n",
    "                    #df['Competência Declarada'] formato AAAAMM\n",
    "                    df['Mês'] = df['Competência Declarada'].str[4:6]\n",
    "                    df['Ano'] = df['Competência Declarada'].str[0:4]\n",
    "                    #Remover coluna 'Competência Declarada'\n",
    "                    df = df.drop(columns=['Competência Declarada'])\n",
    "                mes = mes+1\n",
    "            except Exception as e:\n",
    "                print(f'Error: {e}')\n",
    "                print(\"Arquivo não encontrado\")\n",
    "                mes = mes+1\n",
    "                continue\n",
    "    else:\n",
    "        while(mes<13):\n",
    "            if(mes<10):\n",
    "                Path = (f'./NOVO CAGED/{ano}/{ano}0{mes}/CAGEDMOV{ano}0{mes}.7z')\n",
    "            else:\n",
    "                Path = (f'./NOVO CAGED/{ano}/{ano}{mes}/CAGEDMOV{ano}{mes}.7z')\n",
    "            print(Path)\n",
    "            try:\n",
    "                with py7zr.SevenZipFile(Path, mode='r') as z:\n",
    "                    if (mes<10):\n",
    "                        z.extractall(path=f'./NOVO CAGED/{ano}/{ano}0{mes}')\n",
    "                    else:\n",
    "                        z.extractall(path=f'./NOVO CAGED/{ano}/{ano}{mes}')\n",
    "                Path = Path.replace(\".7z\", \".txt\")\n",
    "                print(f'Path do arquivo txt: {Path}')\n",
    "                df_prov = pd.read_csv(Path, delimiter= \";\")\n",
    "                if(df is None):\n",
    "                    df = df_prov\n",
    "                else:\n",
    "                    df = pd.concat([df, df_prov])\n",
    "                if(mes==12):\n",
    "                    df = df[ListaDeColunasDoNovoCAGED]\n",
    "                    #df['competênciamov'] formato AAAAMM\n",
    "                    df['Mês'] = df['competênciamov'].str[4:6]\n",
    "                    df['Ano'] = df['competênciamov'].str[0:4]\n",
    "                    #Remover coluna 'competênciamov'\n",
    "                    df = df.drop(columns=['competênciamov'])\n",
    "                mes = mes+1\n",
    "            except:\n",
    "                print(\"Arquivo não encontrado\")\n",
    "                mes = mes+1\n",
    "                continue\n",
    "    #Salvar o df em arquivo .csv\n",
    "    df.to_csv(f'./CAGEDMOV{ano}.csv', index=False)\n",
    "    df = None\n",
    "    ano=ano+1\n",
    "    mes=1\n"
   ]
  },
  {
   "cell_type": "code",
   "execution_count": null,
   "metadata": {},
   "outputs": [],
   "source": []
  }
 ],
 "metadata": {
  "kernelspec": {
   "display_name": "Python 3",
   "language": "python",
   "name": "python3"
  },
  "language_info": {
   "codemirror_mode": {
    "name": "ipython",
    "version": 3
   },
   "file_extension": ".py",
   "mimetype": "text/x-python",
   "name": "python",
   "nbconvert_exporter": "python",
   "pygments_lexer": "ipython3",
   "version": "3.12.0"
  }
 },
 "nbformat": 4,
 "nbformat_minor": 2
}
